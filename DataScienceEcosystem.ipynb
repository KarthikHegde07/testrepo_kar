{
 "cells": [
  {
   "cell_type": "code",
   "execution_count": null,
   "id": "7f6700a7-1361-4470-a5ce-60314d027a2c",
   "metadata": {},
   "outputs": [],
   "source": [
    "# Data Science Tools and Ecosyste"
   ]
  },
  {
   "cell_type": "markdown",
   "id": "c4c4aed5-46ea-4019-8673-43ba0638835d",
   "metadata": {},
   "source": [
    "In this notebook, Data science Tools and Ecosystem are sumerized"
   ]
  },
  {
   "cell_type": "markdown",
   "id": "c5cbbaf7-4130-4d85-90e9-27851055b7c8",
   "metadata": {},
   "source": [
    "Some of the popular languages that Data Scientists use are:\n",
    "1. Python\n",
    "2. SQL\n",
    "3. R- programme \n",
    "4. C++\n",
    "5. C"
   ]
  },
  {
   "cell_type": "markdown",
   "id": "da90d933-0e1c-452c-b46e-78a09fd52c88",
   "metadata": {},
   "source": [
    "Some of the commonly used libraries used by Data Scientists include:\n",
    "1. Pandas\n",
    "2. Numpy\n",
    "3. Matplotlib\n",
    "4. Scikit-learn"
   ]
  },
  {
   "cell_type": "markdown",
   "id": "bae82457-fc07-4d6b-b0a5-db25e9248a3e",
   "metadata": {},
   "source": [
    "| Data Science Tools |\n",
    "| -------------|\n",
    "| Data Management Tools  |\n",
    "| Data Integration and Transformation Tools |\n",
    "| Data Visualization Tools|\n",
    "| Model deployment Tools |\n",
    "| Code Asset Management Tools |"
   ]
  },
  {
   "cell_type": "markdown",
   "id": "f489bc8c-a229-4d10-9a9d-9facd561cc08",
   "metadata": {},
   "source": [
    "### Below are a few examples of evaluating arithmetic expressions in Python"
   ]
  },
  {
   "cell_type": "code",
   "execution_count": 9,
   "id": "95012477-3dac-435f-9a46-ee8aa27c31c0",
   "metadata": {
    "tags": []
   },
   "outputs": [
    {
     "data": {
      "text/plain": [
       "17"
      ]
     },
     "execution_count": 9,
     "metadata": {},
     "output_type": "execute_result"
    }
   ],
   "source": [
    "(3*4)+5\n",
    "\n",
    "# This a simple arithmetic expression to mutiply then add integers\n",
    "\n",
    "\n"
   ]
  },
  {
   "cell_type": "code",
   "execution_count": 10,
   "id": "3f0669c8-eabf-492c-95c9-c69c8072d6c4",
   "metadata": {
    "tags": []
   },
   "outputs": [
    {
     "data": {
      "text/plain": [
       "3.3333333333333335"
      ]
     },
     "execution_count": 10,
     "metadata": {},
     "output_type": "execute_result"
    }
   ],
   "source": [
    "200/60\n",
    "\n",
    "# This will convert 200 minutes to hours by diving by 60\n"
   ]
  },
  {
   "cell_type": "markdown",
   "id": "316d8587-69e8-4603-8f68-3e95fb58fd62",
   "metadata": {},
   "source": [
    "**Objectives**\n",
    "- List popular languages for Data Science\n",
    "- List of Data Science Tools\n",
    "- Popular Libraries in Data Science"
   ]
  },
  {
   "cell_type": "markdown",
   "id": "c5cb4dcf-2370-41d5-bdba-cf6b5da47070",
   "metadata": {},
   "source": [
    "## Author\n",
    "Karthik Hegde"
   ]
  },
  {
   "cell_type": "code",
   "execution_count": null,
   "id": "b1558cd2-334f-4cd3-b8e1-be2a0b7b6bdb",
   "metadata": {},
   "outputs": [],
   "source": []
  }
 ],
 "metadata": {
  "kernelspec": {
   "display_name": "Python",
   "language": "python",
   "name": "conda-env-python-py"
  },
  "language_info": {
   "codemirror_mode": {
    "name": "ipython",
    "version": 3
   },
   "file_extension": ".py",
   "mimetype": "text/x-python",
   "name": "python",
   "nbconvert_exporter": "python",
   "pygments_lexer": "ipython3",
   "version": "3.7.12"
  }
 },
 "nbformat": 4,
 "nbformat_minor": 5
}
